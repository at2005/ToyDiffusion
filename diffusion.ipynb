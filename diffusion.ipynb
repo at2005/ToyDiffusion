{
 "cells": [
  {
   "cell_type": "code",
   "execution_count": 1,
   "metadata": {},
   "outputs": [
    {
     "name": "stderr",
     "output_type": "stream",
     "text": [
      "/opt/homebrew/Caskroom/miniforge/base/envs/mlp/lib/python3.8/site-packages/torchvision/io/image.py:13: UserWarning: Failed to load image Python extension: 'dlopen(/opt/homebrew/Caskroom/miniforge/base/envs/mlp/lib/python3.8/site-packages/torchvision/image.so, 0x0006): Symbol not found: __ZN3c1017RegisterOperatorsD1Ev\n",
      "  Referenced from: <AA076682-B999-31A8-AEA6-2BF697B54762> /opt/homebrew/Caskroom/miniforge/base/envs/mlp/lib/python3.8/site-packages/torchvision/image.so\n",
      "  Expected in:     <EFA5DD93-D595-31E3-8640-3366FBC953DC> /opt/homebrew/Caskroom/miniforge/base/envs/mlp/lib/python3.8/site-packages/torch/lib/libtorch_cpu.dylib'If you don't plan on using image functionality from `torchvision.io`, you can ignore this warning. Otherwise, there might be something wrong with your environment. Did you have `libjpeg` or `libpng` installed before building `torchvision` from source?\n",
      "  warn(\n"
     ]
    }
   ],
   "source": [
    "import torch\n",
    "import torch.nn as nn\n",
    "import torch.nn.functional as F\n",
    "from torchvision import datasets, transforms\n",
    "from tqdm import tqdm"
   ]
  },
  {
   "cell_type": "code",
   "execution_count": 2,
   "metadata": {},
   "outputs": [],
   "source": [
    "import matplotlib.pyplot as plt\n",
    "import numpy as np\n",
    "\n",
    "def imshow(tensor):\n",
    "    tensor = tensor.permute(1, 2, 0)\n",
    "\n",
    "    # Step 2: Convert the tensor to a NumPy array\n",
    "    array = tensor.cpu().numpy()\n",
    "\n",
    "    # Step 3: Scale the pixel values to the range [0, 1]\n",
    "    array = (array - np.min(array)) / (np.max(array) - np.min(array))\n",
    "\n",
    "    # Step 4: Clip the pixel values to the valid range [0, 1]\n",
    "    array = np.clip(array, 0, 1)\n",
    "\n",
    "    # Step 5: Display the RGB image using matplotlib\n",
    "    plt.imshow(array)\n",
    "    plt.axis('off')\n",
    "    plt.show()\n",
    "\n",
    "def imshow_grayscale(img):\n",
    "    img = (img + 1) * 0.5\n",
    "    # clipped_output = np.clip(img, 0, 1)\n",
    "    plt.imshow(img, cmap='gray')\n",
    "    plt.show()"
   ]
  },
  {
   "cell_type": "code",
   "execution_count": 3,
   "metadata": {},
   "outputs": [],
   "source": [
    "# hyperparameters\n",
    "batch_size = 128 \n",
    "n_channels = 3\n",
    "num_timesteps = 1000\n",
    "img_dim = 32\n",
    "\n",
    "device = \"mps\""
   ]
  },
  {
   "cell_type": "code",
   "execution_count": 4,
   "metadata": {},
   "outputs": [
    {
     "name": "stdout",
     "output_type": "stream",
     "text": [
      "Files already downloaded and verified\n"
     ]
    }
   ],
   "source": [
    "\n",
    "# transformMNIST = transforms.Compose([\n",
    "#     transforms.Pad(padding=2, fill=0, padding_mode='constant'), \n",
    "#     transforms.ToTensor(),\n",
    "#     transforms.Lambda(lambda x: (x - 0.5) * 2.0)\n",
    "# ])\n",
    "\n",
    "transformCIFAR = transforms.Compose([\n",
    "    transforms.ToTensor(),\n",
    "   transforms.Normalize([0.5], [0.5]),\n",
    "\n",
    "])\n",
    "\n",
    "# mnist_train = datasets.MNIST(root='./data', train=True, download=True, transform=transformMNIST)\n",
    "# trainloader = torch.utils.data.DataLoader(mnist_train, batch_size=batch_size, shuffle=True)\n",
    "\n",
    "cifar_train = datasets.CIFAR10(root='./data', train=True, download=True, transform=transformCIFAR)\n",
    "train_airplanes = [(img, label) for img, label in cifar_train if label == 7]\n",
    "# only pick airplanes\n",
    "trainloader = torch.utils.data.DataLoader(train_airplanes, batch_size=batch_size, shuffle=True)\n",
    "\n",
    "# # sample from the dataloader\n",
    "for batch in (trainloader):\n",
    "    # imshow(batch[0][0])\n",
    "    break\n",
    "\n",
    "# # sample from the dataloader\n",
    "\n"
   ]
  },
  {
   "cell_type": "code",
   "execution_count": 5,
   "metadata": {},
   "outputs": [],
   "source": [
    "\n",
    "beta_schedule = torch.linspace(1e-4, 0.02, num_timesteps)\n",
    "alpha_schedule = 1. - beta_schedule\n",
    "\n",
    "def get_alphas(num_timesteps):\n",
    "    alphas = [alpha_schedule[t] for t in range(num_timesteps)]\n",
    "    return torch.cumprod(torch.tensor(alphas), 0).to(device)\n",
    "\n",
    "# alphas_cumprod = get_alphas(num_timesteps)\n",
    "alphas_cumprod = torch.tensor([torch.prod(alpha_schedule[:i + 1]) for i in range(len(alpha_schedule))]).to(device)\n",
    "\n",
    "# returns tuple (noised image, noise)\n",
    "def get_noised_image_at(t, image):\n",
    "    alpha = alphas_cumprod[t].unsqueeze(-1).unsqueeze(-1).unsqueeze(-1).to(device)\n",
    "    noise = torch.randn(batch_size, n_channels, img_dim, img_dim, device=device)\n",
    "    noise_factor = torch.sqrt(1 - alpha)\n",
    "    return ((torch.sqrt(alpha) * image) + (noise * noise_factor), noise)\n"
   ]
  },
  {
   "cell_type": "code",
   "execution_count": 6,
   "metadata": {},
   "outputs": [],
   "source": [
    "def get_sinusoidal_embedding(n, d):\n",
    "    # Returns the standard positional embedding\n",
    "    embedding = torch.zeros(n, d)\n",
    "    wk = torch.tensor([1 / 10_000 ** (2 * j / d) for j in range(d)])\n",
    "    wk = wk.reshape((1, d))\n",
    "    t = torch.arange(n).reshape((n, 1))\n",
    "    embedding[:,::2] = torch.sin(t * wk[:,::2])\n",
    "    embedding[:,1::2] = torch.cos(t * wk[:,::2])\n",
    "    return embedding"
   ]
  },
  {
   "cell_type": "code",
   "execution_count": 7,
   "metadata": {},
   "outputs": [],
   "source": [
    "# class MultiHeadAttention(nn.Module):\n",
    "#     def __init__(self, dim):\n",
    "#         super(MultiHeadAttention, self).__init__()\n",
    "#         self.dim = dim\n",
    "#         self.num_heads = 2\n",
    "#         self.hidden_dim = 16\n",
    "#         self.qkv = nn.Linear(dim, self.hidden_dim * 3, bias=False) \n",
    "#         self.map = nn.Linear(self.hidden_dim, dim)\n",
    "\n",
    "#     def forward(self, x):\n",
    "#         # apply along channel dim (1)\n",
    "#         shaped_x = x.permute(0, 2, 3, 1) # (B, H, W, C)\n",
    "#         q,k,v = self.qkv(shaped_x).chunk(3, dim=-1) # (B, H, W, 3 * hidden_dim)\n",
    "        \n",
    "#         q = q.reshape(x.shape[0] * self.num_heads, x.shape[-1] * x.shape[-2], self.hidden_dim // (self.num_heads))\n",
    "#         k = k.reshape(x.shape[0] * self.num_heads, self.hidden_dim // (self.num_heads), x.shape[-1] * x.shape[-2])\n",
    "#         v = v.reshape(x.shape[0] * self.num_heads, x.shape[-1] * x.shape[-2], self.hidden_dim // (self.num_heads)) \n",
    "\n",
    "#         out = (1/np.sqrt(self.hidden_dim)) * (q @ k) # (B*Hds, H*W, H*W) -> each pixel \"sees\" the other\n",
    "#         out = F.softmax(out, dim=-1) @ v # (B*Hds, H*W, dv)\n",
    "\n",
    "#         # target shape = (B, H, W, C)\n",
    "#         out = out.view(x.shape[0], x.shape[-2], x.shape[-1], self.hidden_dim)\n",
    "#         out = self.map(out)\n",
    "#         out = out.permute(0, 3, 1, 2)\n",
    "#         # residual connection\n",
    "#         out += x\n",
    "\n",
    "#         return out\n",
    "\n",
    "# copy linear attention for now from HuggingFace\n",
    "from einops import rearrange\n",
    "\n",
    "class LinearAttention(nn.Module):\n",
    "    def __init__(self, dim, heads=4, dim_head=28):\n",
    "        super().__init__()\n",
    "        self.scale = dim_head**-0.5\n",
    "        self.heads = heads\n",
    "        hidden_dim = dim_head * heads\n",
    "        self.to_qkv = nn.Conv2d(dim, hidden_dim * 3, 1, bias=False)\n",
    "\n",
    "        self.to_out = nn.Sequential(nn.Conv2d(hidden_dim, dim, 1), \n",
    "                                    nn.GroupNorm(1, dim))\n",
    "\n",
    "    def forward(self, x):\n",
    "        b, c, h, w = x.shape\n",
    "        qkv = self.to_qkv(x).chunk(3, dim=1)\n",
    "        q, k, v = map(\n",
    "            lambda t: rearrange(t, \"b (h c) x y -> b h c (x y)\", h=self.heads), qkv\n",
    "        )\n",
    "\n",
    "        q = q.softmax(dim=-2)\n",
    "        k = k.softmax(dim=-1)\n",
    "\n",
    "        q = q * self.scale\n",
    "        context = torch.einsum(\"b h d n, b h e n -> b h d e\", k, v)\n",
    "\n",
    "        out = torch.einsum(\"b h d e, b h d n -> b h e n\", context, q)\n",
    "        out = rearrange(out, \"b h c (x y) -> b (h c) x y\", h=self.heads, x=h, y=w)\n",
    "        return self.to_out(out) + x\n"
   ]
  },
  {
   "cell_type": "code",
   "execution_count": 8,
   "metadata": {},
   "outputs": [],
   "source": [
    "class WideResidualBlock(nn.Module):\n",
    "    def __init__(self, channels_in, channels_out, im_dim):\n",
    "        super(WideResidualBlock, self).__init__()\n",
    "        # two convolutional layers and a skip connection for residual\n",
    "        self.conv1 = nn.Conv2d(channels_in, channels_out, 3, padding=1).to(device) \n",
    "        self.conv2 = nn.Conv2d(channels_out, channels_out, 3, padding=1).to(device)\n",
    "        self.ln1 = nn.LayerNorm([channels_in, im_dim, im_dim]).to(device)\n",
    "        # self.ln2 = nn.LayerNorm([channels_out, im_dim, im_dim]).to(device)\n",
    "        self.skip_connection = nn.Conv2d(channels_in, channels_out, 1).to(device)\n",
    "\n",
    "    def forward(self, x, norm=True):\n",
    "        out = self.ln1(x) if norm else x\n",
    "        out = F.silu((self.conv1(out)))\n",
    "        out = F.silu((self.conv2(out)))\n",
    "        out = out + self.skip_connection(x)\n",
    "        return out\n",
    "        \n",
    "class DownsampleBlock(nn.Module):\n",
    "    def __init__(self, in_channels, out_channels, im_dim):\n",
    "        super(DownsampleBlock, self).__init__()\n",
    "        self.in_channels = in_channels\n",
    "        self.out_channels = out_channels\n",
    "        # two residual blocks and a downsampling operation\n",
    "        self.attention = LinearAttention(out_channels).to(device)\n",
    "        self.wide_residual_block1 = WideResidualBlock(self.in_channels, self.out_channels, im_dim).to(device)\n",
    "        self.wide_residual_block2 = WideResidualBlock(self.out_channels, self.out_channels, im_dim).to(device)\n",
    "        self.wide_residual_block3 = WideResidualBlock(self.out_channels, self.out_channels, im_dim).to(device)\n",
    "        self.max_pool = nn.MaxPool2d(2, 2).to(device)\n",
    "\n",
    "    def forward(self, x, t):\n",
    "        x = x + t.reshape(x.shape[0], -1, 1, 1)\n",
    "        x = self.wide_residual_block1(x)\n",
    "        x = self.attention(x)\n",
    "        x = self.wide_residual_block2(x)\n",
    "        x = self.wide_residual_block3(x)\n",
    "        x = self.max_pool(x)\n",
    "        return x\n",
    "\n",
    "class UpsampleBlock(nn.Module):\n",
    "    def __init__(self, in_channels, out_channels, im_dim, concat=True):\n",
    "        super(UpsampleBlock, self).__init__()\n",
    "        self.in_channels = in_channels\n",
    "        self.out_channels = out_channels\n",
    "\n",
    "        self.concat = concat\n",
    "        self.attention = LinearAttention(out_channels).to(device)\n",
    "        self.upsample = nn.ConvTranspose2d(in_channels, in_channels, 4, 2, 1).to(device)\n",
    "        self.upsample_channels = nn.Conv2d(in_channels, out_channels, 1).to(device) \n",
    "        self.cat_map = nn.Conv2d(out_channels*2, out_channels, 1).to(device) if concat else None\n",
    "        self.wide_residual_block1 = WideResidualBlock(self.out_channels, self.out_channels, im_dim).to(device)\n",
    "        self.wide_residual_block2 = WideResidualBlock(self.out_channels, self.out_channels, im_dim).to(device)\n",
    "        self.wide_residual_block3 = WideResidualBlock(self.out_channels, self.out_channels, im_dim).to(device)\n",
    "\n",
    "    def forward(self, x, skip_conn, time_embed, norm=True):\n",
    "        x = F.silu(self.upsample_channels(self.upsample(x)))\n",
    "        # skip connection\n",
    "        x = torch.cat((x, skip_conn), dim=1) if self.concat else x\n",
    "        x = F.silu(self.cat_map(x)) if self.concat else x\n",
    "        x = x + time_embed.reshape(x.shape[0], -1, 1, 1)\n",
    "        x = self.wide_residual_block1(x)\n",
    "        x = self.attention(x) \n",
    "        x = self.wide_residual_block2(x)\n",
    "        x = self.wide_residual_block3(x, norm)\n",
    "        return x\n",
    "\n",
    "class UNet(nn.Module):\n",
    "    def __init__(self):\n",
    "        super(UNet, self).__init__()\n",
    "\n",
    "        self.time_emb_dim = 100\n",
    "        self.max_dim = 280\n",
    "\n",
    "        self.time_embed = nn.Embedding(num_timesteps, self.time_emb_dim)\n",
    "        self.time_embed.weight.data = get_sinusoidal_embedding(num_timesteps, self.time_emb_dim)\n",
    "        self.time_embed.requires_grad_(False)\n",
    "\n",
    "        self.time_embed_mlps = nn.ModuleList([nn.Sequential(\n",
    "            nn.Linear(self.time_emb_dim, dim),\n",
    "            nn.SiLU(),\n",
    "            nn.Linear(dim, dim)\n",
    "        ) for dim in [n_channels,32,90, 160]])\n",
    "    \n",
    "\n",
    "        self.downsamplers = nn.ModuleList([DownsampleBlock(n_channels, 32, img_dim), DownsampleBlock(32, 90, 16), DownsampleBlock(90, 160, 8), DownsampleBlock(160, self.max_dim, 4)])\n",
    "        self.upsamplers = nn.ModuleList([UpsampleBlock(self.max_dim, 160, 4), UpsampleBlock(160, 90, 8), UpsampleBlock(90, 32, 16), UpsampleBlock(32, 32, 32, concat=False)])\n",
    "        \n",
    "\n",
    "        self.latent_resnet1 = WideResidualBlock(self.max_dim, self.max_dim, 2).to(device)\n",
    "        self.latent_resnet2 = WideResidualBlock(self.max_dim, self.max_dim, 2).to(device)\n",
    "        self.final_conv = nn.Sequential(\n",
    "            nn.Conv2d(32 , n_channels , 3, padding=1).to(device),\n",
    "            )\n",
    "\n",
    "    def forward(self, x, t):\n",
    "        t = self.time_embed(t)\n",
    "        time_embeds = [self.time_embed_mlps[i](t) for i in range(len(self.downsamplers))]\n",
    "        residuals = []\n",
    "        for i in range(len(self.downsamplers)):\n",
    "            residuals.append(x)\n",
    "            x = self.downsamplers[i](x, time_embeds[i])\n",
    "\n",
    "        x = self.latent_resnet2((self.latent_resnet1(x)))\n",
    "        # x = self.latent_resnet2((self.latent_resnet1(x)))\n",
    "\n",
    "        for i in range(len(self.upsamplers)):\n",
    "            normalise_ = False if i == len(self.upsamplers) - 1 else True\n",
    "            t_embed = time_embeds[-(i+1)] if i < len(self.upsamplers) - 1 else time_embeds[1]\n",
    "            x = self.upsamplers[i](x, residuals.pop(),t_embed, normalise_)\n",
    "            \n",
    "\n",
    "        return self.final_conv(x)\n",
    "\n",
    "    "
   ]
  },
  {
   "cell_type": "code",
   "execution_count": 27,
   "metadata": {},
   "outputs": [
    {
     "name": "stdout",
     "output_type": "stream",
     "text": [
      "15104254\n"
     ]
    },
    {
     "name": "stderr",
     "output_type": "stream",
     "text": [
      "40it [00:15,  2.51it/s]\n"
     ]
    },
    {
     "name": "stdout",
     "output_type": "stream",
     "text": [
      "Epoch 1, Loss: 0.01707809418439865\n"
     ]
    },
    {
     "name": "stderr",
     "output_type": "stream",
     "text": [
      "40it [00:15,  2.55it/s]\n"
     ]
    },
    {
     "name": "stdout",
     "output_type": "stream",
     "text": [
      "Epoch 2, Loss: 0.017841041088104248\n"
     ]
    },
    {
     "name": "stderr",
     "output_type": "stream",
     "text": [
      "40it [00:16,  2.49it/s]\n"
     ]
    },
    {
     "name": "stdout",
     "output_type": "stream",
     "text": [
      "Epoch 3, Loss: 0.026278113946318626\n"
     ]
    },
    {
     "name": "stderr",
     "output_type": "stream",
     "text": [
      "40it [00:15,  2.52it/s]\n"
     ]
    },
    {
     "name": "stdout",
     "output_type": "stream",
     "text": [
      "Epoch 4, Loss: 0.018808964639902115\n"
     ]
    },
    {
     "name": "stderr",
     "output_type": "stream",
     "text": [
      "40it [00:15,  2.51it/s]\n"
     ]
    },
    {
     "name": "stdout",
     "output_type": "stream",
     "text": [
      "Epoch 5, Loss: 0.021480977535247803\n"
     ]
    },
    {
     "name": "stderr",
     "output_type": "stream",
     "text": [
      "40it [00:15,  2.52it/s]\n"
     ]
    },
    {
     "name": "stdout",
     "output_type": "stream",
     "text": [
      "Epoch 6, Loss: 0.018902620300650597\n"
     ]
    },
    {
     "name": "stderr",
     "output_type": "stream",
     "text": [
      "40it [00:15,  2.51it/s]\n"
     ]
    },
    {
     "name": "stdout",
     "output_type": "stream",
     "text": [
      "Epoch 7, Loss: 0.015675636008381844\n"
     ]
    },
    {
     "name": "stderr",
     "output_type": "stream",
     "text": [
      "40it [00:15,  2.53it/s]\n"
     ]
    },
    {
     "name": "stdout",
     "output_type": "stream",
     "text": [
      "Epoch 8, Loss: 0.015959182754158974\n"
     ]
    },
    {
     "name": "stderr",
     "output_type": "stream",
     "text": [
      "40it [00:15,  2.50it/s]\n"
     ]
    },
    {
     "name": "stdout",
     "output_type": "stream",
     "text": [
      "Epoch 9, Loss: 0.021553626284003258\n"
     ]
    },
    {
     "name": "stderr",
     "output_type": "stream",
     "text": [
      "40it [00:15,  2.50it/s]\n"
     ]
    },
    {
     "name": "stdout",
     "output_type": "stream",
     "text": [
      "Epoch 10, Loss: 0.017305690795183182\n"
     ]
    },
    {
     "name": "stderr",
     "output_type": "stream",
     "text": [
      "10it [00:04,  2.44it/s]"
     ]
    }
   ],
   "source": [
    "# unet = UNet()\n",
    "# unet.to(device)\n",
    "# PATH = \"horse_bigmodel_cifar.pth\"\n",
    "\n",
    "# checkpoint = torch.load(PATH)\n",
    "# unet.load_state_dict(checkpoint['model_state_dict'])\n",
    "\n",
    "unet.train()\n",
    "\n",
    "print(sum([p.numel() for p in unet.parameters() if p.requires_grad]))\n",
    "\n",
    "num_epochs = 80\n",
    "# l1 loss\n",
    "loss_fn = F.huber_loss\n",
    "optimizer = torch.optim.Adam(unet.parameters(), lr=2e-3)\n",
    "optimizer.load_state_dict(checkpoint['optimizer_state_dict'])\n",
    "\n",
    "\n",
    "for i in range(num_epochs):\n",
    "    for j, (batch, _) in tqdm(enumerate(trainloader)):\n",
    "        optimizer.zero_grad()\n",
    "        images = batch.to(device)\n",
    "\n",
    "        if(images.shape[0] != batch_size):\n",
    "            continue\n",
    "        # adding noise\n",
    "        time_vals = torch.randint(1, num_timesteps+1, (batch_size,), device=device)\n",
    "        batch_, noise = get_noised_image_at(time_vals - 1, images)\n",
    "        # forward pass, get predicted noise\n",
    "        predicted_noise = unet(batch_, time_vals)\n",
    "        loss_val = loss_fn(predicted_noise, noise)\n",
    "        # if j % 100 == 0:\n",
    "        #     print(loss_val.item())\n",
    "        loss_val.backward()\n",
    "        optimizer.step()\n",
    "    print(f\"Epoch {i+1}, Loss: {loss_val.item()}\")"
   ]
  },
  {
   "cell_type": "markdown",
   "metadata": {},
   "source": []
  },
  {
   "cell_type": "markdown",
   "metadata": {},
   "source": []
  },
  {
   "cell_type": "code",
   "execution_count": 26,
   "metadata": {},
   "outputs": [
    {
     "data": {
      "image/png": "[encoded data removed]",
      "text/plain": [
       "<Figure size 640x480 with 1 Axes>"
      ]
     },
     "metadata": {},
     "output_type": "display_data"
    },
    {
     "data": {
      "image/png": "[encoded data removed]",
      "text/plain": [
       "<Figure size 640x480 with 1 Axes>"
      ]
     },
     "metadata": {},
     "output_type": "display_data"
    },
    {
     "data": {
      "image/png": "[encoded data removed]",
      "text/plain": [
       "<Figure size 640x480 with 1 Axes>"
      ]
     },
     "metadata": {},
     "output_type": "display_data"
    },
    {
     "data": {
      "image/png": "[encoded data removed]",
      "text/plain": [
       "<Figure size 640x480 with 1 Axes>"
      ]
     },
     "metadata": {},
     "output_type": "display_data"
    },
    {
     "data": {
      "image/png": "[encoded data removed]",
      "text/plain": [
       "<Figure size 640x480 with 1 Axes>"
      ]
     },
     "metadata": {},
     "output_type": "display_data"
    }
   ],
   "source": [
    "# diffusion model sampling code:\n",
    "# unet = UNet()\n",
    "# unet.to(device)\n",
    "# unet.load_state_dict(torch.load(\"horse2.pth\"))\n",
    "\n",
    "\n",
    "import einops\n",
    "\n",
    "with torch.no_grad():\n",
    "    unet.eval()\n",
    "\n",
    "    # sample from the model\n",
    "    # time_vals = torch.randint(1, num_timesteps+1, (batch_size,), device=device)\n",
    "    test_batch_size = 5\n",
    "    x = torch.randn(test_batch_size, n_channels, img_dim, img_dim, device=device)\n",
    "    # print(x.shape)\n",
    "\n",
    "    for t in range(num_timesteps, 0, -1):\n",
    "        time_tensor = (torch.ones(1, 1) * t).to(device).long()\n",
    "        # repeat the time tensor along the batch dimension\n",
    "        time_tensor = time_tensor.repeat(test_batch_size, 1)\n",
    "    \n",
    "        \n",
    "        eta_theta = unet(x, time_tensor)\n",
    "        alpha_t = alpha_schedule[t-1]\n",
    "        alpha_t_bar = alphas_cumprod[t-1]\n",
    "\n",
    "        x = (1 / alpha_t.sqrt()) * (x - ((1 - alpha_t) / (1 - alpha_t_bar).sqrt()) * eta_theta)\n",
    "        \n",
    "        z = torch.randn(test_batch_size, n_channels, img_dim, img_dim).to(device)\n",
    "\n",
    "        beta_t = beta_schedule[t-1]\n",
    "        sigma_t = beta_t.sqrt()\n",
    "\n",
    "        x = x + (sigma_t * z)\n",
    "\n",
    "        if( t == 1):\n",
    "            for i in range(test_batch_size):\n",
    "                imshow(x[i])\n",
    "            # imshow(x[0])\n",
    "\n",
    "\n",
    "    "
   ]
  },
  {
   "cell_type": "code",
   "execution_count": 22,
   "metadata": {},
   "outputs": [],
   "source": [
    "# # checkpoint model\n",
    "# torch.save({\n",
    "#             'model_state_dict': unet.state_dict(),\n",
    "#             'optimizer_state_dict': optimizer.state_dict(),\n",
    "#             }, \"horse_bigmodel_cifar.pth\")\n"
   ]
  },
  {
   "cell_type": "code",
   "execution_count": null,
   "metadata": {},
   "outputs": [],
   "source": []
  }
 ],
 "metadata": {
  "kernelspec": {
   "display_name": "mlp",
   "language": "python",
   "name": "python3"
  },
  "language_info": {
   "codemirror_mode": {
    "name": "ipython",
    "version": 3
   },
   "file_extension": ".py",
   "mimetype": "text/x-python",
   "name": "python",
   "nbconvert_exporter": "python",
   "pygments_lexer": "ipython3",
   "version": "3.8.18"
  }
 },
 "nbformat": 4,
 "nbformat_minor": 2
}
